{
 "cells": [
  {
   "cell_type": "markdown",
   "id": "84628f17-158e-48b3-a9ad-defa58fbb0f5",
   "metadata": {},
   "source": [
    "# The Quadratic Equation"
   ]
  },
  {
   "cell_type": "code",
   "execution_count": 1,
   "id": "826a4f1d-a6c5-4097-acf7-045868ba91f3",
   "metadata": {},
   "outputs": [],
   "source": [
    "import numpy as np\n",
    "\n",
    "from matplotlib import pyplot as plt"
   ]
  },
  {
   "cell_type": "code",
   "execution_count": 2,
   "id": "98886781-a498-48fa-bb0f-90bc7702c4bd",
   "metadata": {},
   "outputs": [],
   "source": [
    "from ipywidgets import interact, interactive\n",
    "from IPython.display import clear_output, display, HTML"
   ]
  },
  {
   "cell_type": "markdown",
   "id": "da734549-cedd-4e4f-8e59-1aaed34ee1a3",
   "metadata": {},
   "source": [
    "In algebra, a *quadratic equation*  is any equation that can be rearranged in standard form as\n",
    "\n",
    "$$ax^2 + bx + c = 0\\,,$$\n",
    "\n",
    "Before we consider the solution to this equation, we can start asking about the following function:\n",
    "\n",
    "$$f(x) = ax^2 + bx + c\\,,$$"
   ]
  },
  {
   "cell_type": "code",
   "execution_count": 3,
   "id": "3ae828e5-5e27-4099-8669-9ab2de964af9",
   "metadata": {},
   "outputs": [],
   "source": [
    "def plot_quadratic(a=0, b=0, c=0):\n",
    "    \n",
    "    fig = plt.figure(figsize=(5,5))\n",
    "    ax = fig.add_axes([0, 0, 1, 1])\n",
    "    #ax.axis('off')\n",
    "    \n",
    "    x = np.linspace(-10, 10, int(250))\n",
    "    fx = a*x*x + b*x + c\n",
    "    \n",
    "    ax.plot(x,fx)\n",
    "    ax.set_xlim(-10,10)"
   ]
  },
  {
   "cell_type": "code",
   "execution_count": 4,
   "id": "a4fc1d05-e56a-40cd-96d4-2fb6df074a31",
   "metadata": {},
   "outputs": [
    {
     "data": {
      "application/vnd.jupyter.widget-view+json": {
       "model_id": "25fbc589b048475c9bd594ed7be98d3a",
       "version_major": 2,
       "version_minor": 0
      },
      "text/plain": [
       "interactive(children=(FloatSlider(value=0.0, description='a', max=10.0, min=-10.0), FloatSlider(value=0.0, des…"
      ]
     },
     "metadata": {},
     "output_type": "display_data"
    }
   ],
   "source": [
    "w = interactive(plot_quadratic, a=(-10.0,10.0), b=(-10.0,10.0), c=(-10.0,10.0))\n",
    "display(w)"
   ]
  },
  {
   "cell_type": "code",
   "execution_count": null,
   "id": "3eec7727-4a87-408e-9fa6-be48465ac232",
   "metadata": {},
   "outputs": [],
   "source": []
  }
 ],
 "metadata": {
  "kernelspec": {
   "display_name": "Python 3 (ipykernel)",
   "language": "python",
   "name": "python3"
  },
  "language_info": {
   "codemirror_mode": {
    "name": "ipython",
    "version": 3
   },
   "file_extension": ".py",
   "mimetype": "text/x-python",
   "name": "python",
   "nbconvert_exporter": "python",
   "pygments_lexer": "ipython3",
   "version": "3.11.4"
  }
 },
 "nbformat": 4,
 "nbformat_minor": 5
}
