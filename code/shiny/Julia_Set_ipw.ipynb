{
 "cells": [
  {
   "cell_type": "markdown",
   "id": "d32aadf4-d5bd-4ba9-8443-bc5365efdd18",
   "metadata": {},
   "source": [
    "# Julia sets"
   ]
  },
  {
   "cell_type": "markdown",
   "id": "cb399c0b-bb47-41a1-9a3a-c05e9281d371",
   "metadata": {},
   "source": [
    "A Julia (named after G. Julia) set is the boundary of the sets of unbounded and bounded iterates of the family of functions\n",
    "\n",
    "$$f_a(x)=x^2+a$$\n",
    "\n",
    "where $a$ is fixed and $x_0$ varies about the complex plane $x+y_i$. \n",
    "Different values of $a$ lead to different Julia sets, and together this family of functions \n",
    "\n",
    "$$f_a(x) \\;\\; \\forall \\;\\; a \\in \\mathbb{C} $$ \n",
    "\n",
    "are the Julia sets.\n",
    "\n",
    "This means that any number in the complex plane is in a Julia set if it borders another number $u$\n",
    "such that iterations of $f_a$ are unbounded\n",
    "\n",
    "$$f^k_a(u) \\rightarrow \\infty \\;\\;\\text{as}\\;\\; k \\rightarrow \\infty$$\n",
    "\n",
    "as well as a number b\n",
    "where iterations of $f_a$ are bounded\n",
    "\n",
    "$$f^k_a(c) \\nrightarrow \\infty \\;\\;\\text{as}\\;\\; k \\rightarrow \\infty$$\n",
    "\n",
    "If we restrict ourselves to the real line, such that a\n",
    "and x are elements of $\\mathbb{R}$, iterations of $f_a$ have a number of interesting features. Some values of $a$ form Cantor sets (fractal dusts), which may be expected as $f_a$ is a nonlinear equation similar in form to the logistic and Henon maps "
   ]
  },
  {
   "cell_type": "code",
   "execution_count": 13,
   "id": "03e42d5d-a5e9-4b0c-89d0-2aec8c79e964",
   "metadata": {},
   "outputs": [],
   "source": [
    "from ipywidgets import interact, interactive\n",
    "from IPython.display import clear_output, display, HTML"
   ]
  },
  {
   "cell_type": "code",
   "execution_count": 14,
   "id": "4e837233-4b16-4415-a822-2d1b0a2c1df9",
   "metadata": {},
   "outputs": [],
   "source": [
    "import numpy as np \n",
    "import matplotlib.pyplot as plt "
   ]
  },
  {
   "cell_type": "code",
   "execution_count": 15,
   "id": "0c131bd1-e666-44cd-9424-9dcf157cad84",
   "metadata": {},
   "outputs": [],
   "source": [
    "def julia_set(h_range, w_range, max_iterations, ar=-0.744, ai=0.148):\n",
    "    ''' A function to determine the values of the Julia set. Takes\n",
    "    an array size specified by h_range and w_range, in pixels, along\n",
    "    with the number of maximum iterations to try.  Returns an array with \n",
    "    the number of the last bounded iteration at each array value.\n",
    "    '''\n",
    "    # top left to bottom right\n",
    "    y, x = np.ogrid[1.4: -1.4: h_range*1j, -2.8: 2.8: w_range*1j]\n",
    "    z_array = x + y*1j\n",
    "    a = ar + ai * 1j\n",
    "    iterations_till_divergence = max_iterations + np.zeros(z_array.shape)\n",
    "  \n",
    "    for h in range(h_range):\n",
    "        for w in range(w_range):\n",
    "\n",
    "            z = z_array[h][w]\n",
    "            for i in range(max_iterations):\n",
    "                z = z**2 + a\n",
    "                if z * np.conj(z) > 4:\n",
    "                    iterations_till_divergence[h][w] = i\n",
    "                    break\n",
    "\n",
    "    return iterations_till_divergence"
   ]
  },
  {
   "cell_type": "code",
   "execution_count": 20,
   "id": "f2a516da-0494-4121-9b1e-722db00dcaaf",
   "metadata": {},
   "outputs": [],
   "source": [
    "def plot_julia(ar, ai):\n",
    "    plt.figure(figsize=(12,6))\n",
    "    plt.imshow(julia_set(200, 400, 70, ar, ai), cmap='twilight_shifted')\n",
    "    plt.axis('off')\n",
    "    plt.show()"
   ]
  },
  {
   "cell_type": "code",
   "execution_count": 21,
   "id": "30f9d0f3-0913-4f4a-bd3b-7e8aaef97830",
   "metadata": {},
   "outputs": [
    {
     "data": {
      "application/vnd.jupyter.widget-view+json": {
       "model_id": "c2b3492ee5324f3db730f609bb110d2c",
       "version_major": 2,
       "version_minor": 0
      },
      "text/plain": [
       "interactive(children=(FloatSlider(value=0.0, description='ar', max=1.0, min=-1.0, step=0.01), FloatSlider(valu…"
      ]
     },
     "metadata": {},
     "output_type": "display_data"
    }
   ],
   "source": [
    "w = interactive(plot_julia, ar=(-1.0,1.0,0.01), ai=(-1.0,1.0, 0.01))\n",
    "display(w)"
   ]
  },
  {
   "cell_type": "code",
   "execution_count": null,
   "id": "58b2de33-35eb-4ef5-8f42-7205ed2e3da6",
   "metadata": {},
   "outputs": [],
   "source": []
  }
 ],
 "metadata": {
  "kernelspec": {
   "display_name": "Python 3 (ipykernel)",
   "language": "python",
   "name": "python3"
  },
  "language_info": {
   "codemirror_mode": {
    "name": "ipython",
    "version": 3
   },
   "file_extension": ".py",
   "mimetype": "text/x-python",
   "name": "python",
   "nbconvert_exporter": "python",
   "pygments_lexer": "ipython3",
   "version": "3.11.4"
  }
 },
 "nbformat": 4,
 "nbformat_minor": 5
}
