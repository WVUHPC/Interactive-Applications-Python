{
 "cells": [
  {
   "cell_type": "markdown",
   "id": "9314637e",
   "metadata": {},
   "source": [
    "# Introduction to Pymunk\n",
    "\n",
    "This lesson is intended to provide educators an introduction to Pymunk, a Python package that can create interactive kinematics simulations. Using this package, an educator can create simulations that demonstrate basics physics concepts like energy and momentum; these simulations can be modified by students in order to gain a deeper understanding of the underlying concepts. By using computer simulations, it is possible to let students explore more intricate systems than they might otherwise due to factors such as a limited number of physical setups. It can be especially helpful simulating systems that tend to produce incredibly noisy data when done with physical equipment."
   ]
  },
  {
   "cell_type": "markdown",
   "id": "37381b66",
   "metadata": {},
   "source": [
    "## Installing Pymunk\n",
    "\n",
    "This notebook assumes that the user has already installed Python as well as Pymunk and its requirements. If this is being used on WVU's Thorny Flat cluster using OnDemand with the most recent version of Python, this will already be the case. Otherwise, you must install it yourself. \n",
    "\n",
    "Once python is installed, Pymunk can be installed with `pip install pymunk`\n",
    "\n",
    "If you want to use Pymunk with Conda, use the command `conda install -c conda-forge pymunk`"
   ]
  },
  {
   "cell_type": "markdown",
   "id": "8cb84374",
   "metadata": {},
   "source": [
    "## Getting Started\n",
    "\n",
    "We will start with a basic simulation of a pendulum to introduce the essential functions in Pymunk. "
   ]
  },
  {
   "cell_type": "code",
   "execution_count": 5,
   "id": "b700ea9b",
   "metadata": {},
   "outputs": [
    {
     "name": "stdout",
     "output_type": "stream",
     "text": [
      "(in on_draw): point = 200.00, 400.00\n",
      "(in on_draw): point = 200.00, 400.00\n",
      "(in on_draw): point = 200.00, 399.64\n",
      "(in on_draw): point = 200.00, 398.92\n",
      "(in on_draw): point = 200.00, 397.84\n",
      "(in on_draw): point = 200.00, 396.40\n",
      "(in on_draw): point = 200.00, 394.60\n",
      "(in on_draw): point = 200.00, 392.44\n",
      "(in on_draw): point = 200.00, 389.92\n",
      "(in on_draw): point = 200.00, 387.04\n",
      "(in on_draw): point = 200.00, 383.80\n",
      "(in on_draw): point = 200.00, 380.20\n",
      "(in on_draw): point = 200.00, 376.24\n",
      "(in on_draw): point = 200.00, 371.92\n",
      "(in on_draw): point = 200.00, 367.24\n",
      "(in on_draw): point = 200.00, 362.20\n",
      "(in on_draw): point = 200.00, 356.80\n",
      "(in on_draw): point = 200.00, 351.04\n",
      "(in on_draw): point = 200.00, 344.92\n",
      "(in on_draw): point = 200.00, 338.44\n",
      "(in on_draw): point = 200.00, 331.60\n",
      "(in on_draw): point = 200.00, 324.40\n",
      "(in on_draw): point = 200.00, 316.84\n",
      "(in on_draw): point = 200.00, 308.92\n",
      "(in on_draw): point = 200.00, 300.64\n",
      "(in on_draw): point = 200.00, 292.00\n",
      "(in on_draw): point = 200.00, 283.00\n",
      "(in on_draw): point = 200.00, 273.64\n",
      "(in on_draw): point = 200.00, 263.92\n",
      "(in on_draw): point = 200.00, 253.84\n",
      "(in on_draw): point = 200.00, 243.40\n",
      "(in on_draw): point = 200.00, 232.60\n",
      "(in on_draw): point = 200.00, 221.44\n",
      "(in on_draw): point = 200.00, 209.92\n",
      "(in on_draw): point = 200.00, 198.04\n",
      "(in on_draw): point = 200.00, 185.80\n",
      "(in on_draw): point = 200.00, 173.20\n",
      "(in on_draw): point = 200.00, 160.24\n",
      "(in on_draw): point = 200.00, 146.92\n",
      "(in on_draw): point = 200.00, 133.24\n",
      "(in on_draw): point = 200.00, 119.20\n",
      "(in on_draw): point = 200.00, 104.80\n",
      "(in on_draw): point = 200.00, 90.04\n",
      "(in on_draw): point = 200.00, 74.92\n",
      "(in on_draw): point = 200.00, 59.44\n",
      "(in on_draw): point = 200.00, 43.60\n",
      "(in on_draw): point = 200.00, 27.40\n",
      "(in on_draw): point = 200.00, 10.84\n"
     ]
    }
   ],
   "source": [
    "import pymunk as pm # Import the package we're working with\n",
    "\n",
    "space = pymunk.Space() # This creates the space in which our entire system exists.\n",
    "space.gravity = (0.0, -900.0) # We define the acceleration due to gravity as 0 units in x and -900 in y (downwards)\n",
    "\n",
    "## Balls\n",
    "balls = []\n",
    "\n",
    "ticks_to_next_ball = 10\n",
    "for x in range(5000):\n",
    "    ticks_to_next_ball -= 1\n",
    "    if ticks_to_next_ball <= 0:\n",
    "        ticks_to_next_ball = 10000\n",
    "        mass = 10\n",
    "        radius = 25\n",
    "        inertia = pymunk.moment_for_circle(mass, 0, radius, (0, 0))\n",
    "        body = pymunk.Body(mass, inertia)\n",
    "        x = 200\n",
    "        body.position = x, 400\n",
    "        shape = pymunk.Circle(body, radius, pm.Vec2d(0, 0))\n",
    "        space.add(body, shape)\n",
    "        balls.append(shape)\n",
    "\n",
    "    balls_to_remove = []\n",
    "\n",
    "    if len(balls) >= 1:\n",
    "        v = balls[0].body.position\n",
    "        print(\"(in on_draw): point = %.2f, %.2f\" % (v.x, v.y))\n",
    "\n",
    "    ### Update physics\n",
    "    for x in range(1):\n",
    "        space.step(1 / 50.0)"
   ]
  },
  {
   "cell_type": "code",
   "execution_count": null,
   "id": "bc807d14",
   "metadata": {},
   "outputs": [],
   "source": []
  }
 ],
 "metadata": {
  "kernelspec": {
   "display_name": "Python 3 (ipykernel)",
   "language": "python",
   "name": "python3"
  },
  "language_info": {
   "codemirror_mode": {
    "name": "ipython",
    "version": 3
   },
   "file_extension": ".py",
   "mimetype": "text/x-python",
   "name": "python",
   "nbconvert_exporter": "python",
   "pygments_lexer": "ipython3",
   "version": "3.11.3"
  }
 },
 "nbformat": 4,
 "nbformat_minor": 5
}
